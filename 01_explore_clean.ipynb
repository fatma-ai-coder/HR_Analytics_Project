{
 "cells": [
  {
   "cell_type": "markdown",
   "id": "de83c2f4",
   "metadata": {},
   "source": [
    "##### **1. Setup File, Paths, & Libraries**"
   ]
  },
  {
   "cell_type": "code",
   "execution_count": null,
   "id": "3ff8f009-f20c-4045-bfef-4e12d4dc91ac",
   "metadata": {},
   "outputs": [
    {
     "name": "stdout",
     "output_type": "stream",
     "text": [
      "DATA_PATH: C:\\Users\\Fatma\\OneDrive-Work\\OneDrive\\Solutions_by_STC\\Tasks\\Week_2\\HR_Project\\data\\WA_Fn-UseC_-HR-Employee-Attrition.csv\n",
      "CLEANED_CSV: data\\cleaned_hr.csv\n",
      "DB_PATH: employees.db\n"
     ]
    }
   ],
   "source": [
    "import os \n",
    "import pandas as pd\n",
    "from sqlalchemy import create_engine\n",
    "import sqlite3\n",
    "\n",
    "DATA_PATH = r\"C:\\Users\\Fatma\\OneDrive-Work\\OneDrive\\Solutions_by_STC\\Tasks\\Week_2\\HR_Project\\data\\WA_Fn-UseC_-HR-Employee-Attrition.csv\"  \n",
    "CLEANED_CSV = r\"data\\cleaned_hr.csv\"\n",
    "DB_PATH = r\"employees.db\"\n",
    "\n",
    "print(\"DATA_PATH:\", DATA_PATH)\n",
    "print(\"CLEANED_CSV:\", CLEANED_CSV)\n",
    "print(\"DB_PATH:\", DB_PATH)\n",
    "\n"
   ]
  },
  {
   "cell_type": "code",
   "execution_count": 2,
   "id": "0fb4fef8-f8f2-44c8-b98e-dc88fdf11c4d",
   "metadata": {},
   "outputs": [
    {
     "name": "stdout",
     "output_type": "stream",
     "text": [
      "CSV found at: C:\\Users\\Fatma\\OneDrive-Work\\OneDrive\\Solutions_by_STC\\Tasks\\Week_2\\HR_Project\\data\\WA_Fn-UseC_-HR-Employee-Attrition.csv and ready to load\n"
     ]
    }
   ],
   "source": [
    "if not os.path.exists(DATA_PATH):\n",
    "    raise FileNotFoundError(f\"CSV not found at: {DATA_PATH}\")\n",
    "else:\n",
    "    print(\"CSV found at:\",DATA_PATH, \"and ready to load\")\n",
    "    \n",
    "    "
   ]
  },
  {
   "cell_type": "markdown",
   "id": "9a183e54",
   "metadata": {},
   "source": [
    "##### **2. Loaded The Dataset**"
   ]
  },
  {
   "cell_type": "code",
   "execution_count": null,
   "id": "af1946cf-3050-4f2a-a447-6755d8512a4a",
   "metadata": {},
   "outputs": [
    {
     "name": "stdout",
     "output_type": "stream",
     "text": [
      "Loaded CSV. Rows,Cols: (1470, 35)\n",
      "\n",
      "--- head() sample ---\n",
      "   Age Attrition     BusinessTravel  DailyRate              Department  DistanceFromHome  Education EducationField  EmployeeCount  EmployeeNumber  EnvironmentSatisfaction  Gender  HourlyRate  JobInvolvement  JobLevel                JobRole  JobSatisfaction MaritalStatus  MonthlyIncome  MonthlyRate  NumCompaniesWorked Over18 OverTime  PercentSalaryHike  PerformanceRating  RelationshipSatisfaction  StandardHours  StockOptionLevel  TotalWorkingYears  TrainingTimesLastYear  WorkLifeBalance  YearsAtCompany  YearsInCurrentRole  YearsSinceLastPromotion  YearsWithCurrManager\n",
      "0   41       Yes      Travel_Rarely       1102                   Sales                 1          2  Life Sciences              1               1                        2  Female          94               3         2        Sales Executive                4        Single           5993        19479                   8      Y      Yes                 11                  3                         1             80                 0                  8                      0                1               6                   4                        0                     5\n",
      "1   49        No  Travel_Frequently        279  Research & Development                 8          1  Life Sciences              1               2                        3    Male          61               2         2     Research Scientist                2       Married           5130        24907                   1      Y       No                 23                  4                         4             80                 1                 10                      3                3              10                   7                        1                     7\n",
      "2   37       Yes      Travel_Rarely       1373  Research & Development                 2          2          Other              1               4                        4    Male          92               2         1  Laboratory Technician                3        Single           2090         2396                   6      Y      Yes                 15                  3                         2             80                 0                  7                      3                3               0                   0                        0                     0\n",
      "3   33        No  Travel_Frequently       1392  Research & Development                 3          4  Life Sciences              1               5                        4  Female          56               3         1     Research Scientist                3       Married           2909        23159                   1      Y      Yes                 11                  3                         3             80                 0                  8                      3                3               8                   7                        3                     0\n",
      "4   27        No      Travel_Rarely        591  Research & Development                 2          1        Medical              1               7                        1    Male          40               3         1  Laboratory Technician                2       Married           3468        16632                   9      Y       No                 12                  3                         4             80                 1                  6                      3                3               2                   2                        2                     2\n"
     ]
    }
   ],
   "source": [
    "try:\n",
    "    df = pd.read_csv(DATA_PATH)\n",
    "    print(f\"Loaded CSV with {df.shape[0]} rows and {df.shape[1]} columns\")\n",
    "\n",
    "except Exception as e:\n",
    "    raise RuntimeError(\"Failed to read CSV file with pandas:\" +str(e))\n",
    "\n",
    "print(\"\\n--- Preview of Data ---\")\n",
    "print(df.head().to_string())\n",
    "    "
   ]
  },
  {
   "cell_type": "code",
   "execution_count": null,
   "id": "4688f008-8c52-4b9b-a6e9-b3c705e86c20",
   "metadata": {},
   "outputs": [
    {
     "name": "stdout",
     "output_type": "stream",
     "text": [
      "\n",
      "--- info ---\n",
      "<class 'pandas.core.frame.DataFrame'>\n",
      "RangeIndex: 1470 entries, 0 to 1469\n",
      "Data columns (total 35 columns):\n",
      " #   Column                    Non-Null Count  Dtype \n",
      "---  ------                    --------------  ----- \n",
      " 0   Age                       1470 non-null   int64 \n",
      " 1   Attrition                 1470 non-null   object\n",
      " 2   BusinessTravel            1470 non-null   object\n",
      " 3   DailyRate                 1470 non-null   int64 \n",
      " 4   Department                1470 non-null   object\n",
      " 5   DistanceFromHome          1470 non-null   int64 \n",
      " 6   Education                 1470 non-null   int64 \n",
      " 7   EducationField            1470 non-null   object\n",
      " 8   EmployeeCount             1470 non-null   int64 \n",
      " 9   EmployeeNumber            1470 non-null   int64 \n",
      " 10  EnvironmentSatisfaction   1470 non-null   int64 \n",
      " 11  Gender                    1470 non-null   object\n",
      " 12  HourlyRate                1470 non-null   int64 \n",
      " 13  JobInvolvement            1470 non-null   int64 \n",
      " 14  JobLevel                  1470 non-null   int64 \n",
      " 15  JobRole                   1470 non-null   object\n",
      " 16  JobSatisfaction           1470 non-null   int64 \n",
      " 17  MaritalStatus             1470 non-null   object\n",
      " 18  MonthlyIncome             1470 non-null   int64 \n",
      " 19  MonthlyRate               1470 non-null   int64 \n",
      " 20  NumCompaniesWorked        1470 non-null   int64 \n",
      " 21  Over18                    1470 non-null   object\n",
      " 22  OverTime                  1470 non-null   object\n",
      " 23  PercentSalaryHike         1470 non-null   int64 \n",
      " 24  PerformanceRating         1470 non-null   int64 \n",
      " 25  RelationshipSatisfaction  1470 non-null   int64 \n",
      " 26  StandardHours             1470 non-null   int64 \n",
      " 27  StockOptionLevel          1470 non-null   int64 \n",
      " 28  TotalWorkingYears         1470 non-null   int64 \n",
      " 29  TrainingTimesLastYear     1470 non-null   int64 \n",
      " 30  WorkLifeBalance           1470 non-null   int64 \n",
      " 31  YearsAtCompany            1470 non-null   int64 \n",
      " 32  YearsInCurrentRole        1470 non-null   int64 \n",
      " 33  YearsSinceLastPromotion   1470 non-null   int64 \n",
      " 34  YearsWithCurrManager      1470 non-null   int64 \n",
      "dtypes: int64(26), object(9)\n",
      "memory usage: 402.1+ KB\n",
      "\n",
      "--- missing values per column ---\n",
      "Age                         0\n",
      "Attrition                   0\n",
      "BusinessTravel              0\n",
      "DailyRate                   0\n",
      "Department                  0\n",
      "DistanceFromHome            0\n",
      "Education                   0\n",
      "EducationField              0\n",
      "EmployeeCount               0\n",
      "EmployeeNumber              0\n",
      "EnvironmentSatisfaction     0\n",
      "Gender                      0\n",
      "HourlyRate                  0\n",
      "JobInvolvement              0\n",
      "JobLevel                    0\n",
      "JobRole                     0\n",
      "JobSatisfaction             0\n",
      "MaritalStatus               0\n",
      "MonthlyIncome               0\n",
      "MonthlyRate                 0\n",
      "NumCompaniesWorked          0\n",
      "Over18                      0\n",
      "OverTime                    0\n",
      "PercentSalaryHike           0\n",
      "PerformanceRating           0\n",
      "RelationshipSatisfaction    0\n",
      "StandardHours               0\n",
      "StockOptionLevel            0\n",
      "TotalWorkingYears           0\n",
      "TrainingTimesLastYear       0\n",
      "WorkLifeBalance             0\n",
      "YearsAtCompany              0\n",
      "YearsInCurrentRole          0\n",
      "YearsSinceLastPromotion     0\n",
      "YearsWithCurrManager        0\n",
      "dtype: int64\n",
      "\n",
      "--- duplicate rows count ---\n",
      "0\n"
     ]
    }
   ],
   "source": [
    "print(\"\\n--- Dataset Information ---\")\n",
    "df.info()\n",
    "\n",
    "print(\"\\n--- Missing Values for Each Column ---\")\n",
    "print(df.isnull().sum())\n",
    "\n",
    "print(\"\\n--- Total Duplicate Rows ---\")\n",
    "print(df.duplicated().sum())\n"
   ]
  },
  {
   "cell_type": "markdown",
   "id": "9c3034e4",
   "metadata": {},
   "source": [
    "##### **3. Cleaned The Data**"
   ]
  },
  {
   "cell_type": "code",
   "execution_count": null,
   "id": "f45177bc-59c8-45db-93ae-544066681e72",
   "metadata": {},
   "outputs": [
    {
     "name": "stdout",
     "output_type": "stream",
     "text": [
      "\n",
      "Nulls after numeric coercion (per column):\n",
      "EmployeeNumber             0\n",
      "Age                        0\n",
      "DailyRate                  0\n",
      "DistanceFromHome           0\n",
      "HourlyRate                 0\n",
      "MonthlyIncome              0\n",
      "NumCompaniesWorked         0\n",
      "PercentSalaryHike          0\n",
      "TotalWorkingYears          0\n",
      "TrainingTimesLastYear      0\n",
      "YearsAtCompany             0\n",
      "YearsInCurrentRole         0\n",
      "YearsSinceLastPromotion    0\n",
      "YearsWithCurrManager       0\n",
      "PerformanceRating          0\n",
      "dtype: int64\n",
      "\n",
      "Cleaned Shape: (1470, 35)\n"
     ]
    }
   ],
   "source": [
    "df = df.drop_duplicates()\n",
    "str_cols = df.select_dtypes(include=\"object\").columns.tolist()\n",
    "for c in str_cols:\n",
    "    df[c] = df[c].astype(str).str.strip()\n",
    "\n",
    "\n",
    "\n",
    "no_cols = ['EmployeeNumber', 'Age', 'DailyRate', 'DistanceFromHome', 'HourlyRate', 'MonthlyIncome',\n",
    "            'NumCompaniesWorked', 'PercentSalaryHike', 'TotalWorkingYears', 'TrainingTimesLastYear',\n",
    "            'YearsAtCompany', 'YearsInCurrentRole', 'YearsSinceLastPromotion', 'YearsWithCurrManager', 'PerformanceRating']\n",
    "\n",
    "for c in no_cols:\n",
    "    if c in df.columns:\n",
    "        df[c] = pd.to_numeric(df[c], errors='coerce')\n",
    "\n",
    "print(\"\\nCount of Missing Values in Each Column:\")\n",
    "print(df[no_cols].isnull().sum())"
   ]
  },
  {
   "cell_type": "markdown",
   "id": "3ff37732",
   "metadata": {},
   "source": [
    "##### **4. Handled The Missing Values**"
   ]
  },
  {
   "cell_type": "code",
   "execution_count": null,
   "id": "185ab360",
   "metadata": {},
   "outputs": [],
   "source": [
    "if 'MonthlyIncome' in df.columns and df['MonthlyIncome'].isnull().any():\n",
    "    print('\\nDropping The Rows with Missing MonthlyIncome - count:', df['MonthlyIncome'].isnull().sum())\n",
    "    df = df.dropna(subset=['MonthlyIncome'])\n",
    "\n",
    "\n",
    "if 'PerformanceRating' in df.columns and df['PerformanceRating'].isnull().any():\n",
    "    med = df['PerformanceRating'].median()\n",
    "    print(f\"Replacing missing PerformanceRating with median value: {med}\")\n",
    "    df['PerformanceRating'] = df['PerformanceRating'].fillna(med)\n",
    "\n",
    "print(\"\\nCleaned Shape:\", df.shape)"
   ]
  },
  {
   "cell_type": "markdown",
   "id": "547a37aa",
   "metadata": {},
   "source": [
    "##### **5. Saved The Cleaned Data**"
   ]
  },
  {
   "cell_type": "code",
   "execution_count": null,
   "id": "59e2ce5d-755e-443b-bb6f-7f622038eb79",
   "metadata": {},
   "outputs": [
    {
     "name": "stdout",
     "output_type": "stream",
     "text": [
      "Saved Cleaned CSV to data\\cleaned_hr.csv\n"
     ]
    }
   ],
   "source": [
    "os.makedirs(os.path.dirname(CLEANED_CSV), exist_ok=True)\n",
    "df.to_csv(CLEANED_CSV, index=False)\n",
    "print('Saved The Cleaned CSV to', CLEANED_CSV)"
   ]
  },
  {
   "cell_type": "code",
   "execution_count": null,
   "id": "a67fa96e-65f8-4c7f-ac75-2bde2f38aac1",
   "metadata": {},
   "outputs": [
    {
     "name": "stdout",
     "output_type": "stream",
     "text": [
      "Wrote table 'employees' to SQLite DB at employees.db\n",
      "\n",
      "Total employees in DB (via SQL):\n",
      "   total_employees\n",
      "0             1470\n"
     ]
    }
   ],
   "source": [
    "engine = create_engine(f\"sqlite:///{DB_PATH}\", echo=False)\n",
    "df.to_sql('employees', engine, if_exists='replace', index=False)\n",
    "print(\"Wrote The Table of 'employees' to SQLite DB at\", DB_PATH)\n",
    "\n",
    "\n",
    "sample = pd.read_sql_query('SELECT COUNT(*) AS total_employees FROM employees', engine)\n",
    "print('\\nThe Total Number of Employees in The Database (via SQL) is:')\n",
    "print(sample)"
   ]
  },
  {
   "cell_type": "markdown",
   "id": "b00f605f",
   "metadata": {},
   "source": [
    "##### **6. Finally Analyzed HR DATA**"
   ]
  },
  {
   "cell_type": "code",
   "execution_count": 18,
   "id": "5e4df1a1-2b3f-4e0c-96f6-11067038f548",
   "metadata": {},
   "outputs": [
    {
     "name": "stdout",
     "output_type": "stream",
     "text": [
      "\n",
      "Ans 1 - Total Number of Employees is:\n",
      "   total_employees\n",
      "0             1470\n",
      "\n",
      "Ans 2 - The Employee Count for Each Department:\n",
      "               Department  cnt\n",
      "0  Research & Development  961\n",
      "1                   Sales  446\n",
      "2         Human Resources   63\n",
      "\n",
      "Ans 3 - The Average Monthly Income by Job Role:\n",
      "                     JobRole  avg_monthly_income\n",
      "0                    Manager            17181.68\n",
      "1          Research Director            16033.55\n",
      "2  Healthcare Representative             7528.76\n",
      "3     Manufacturing Director             7295.14\n",
      "4            Sales Executive             6924.28\n",
      "5            Human Resources             4235.75\n",
      "6         Research Scientist             3239.97\n",
      "7      Laboratory Technician             3237.17\n",
      "8       Sales Representative             2626.00\n",
      "\n",
      "Ans 4 - The Top 5 Employees by Performance Rating:\n",
      "   EmployeeNumber  Age            JobRole  PerformanceRating  MonthlyIncome\n",
      "0            1035   41  Research Director                  4          19973\n",
      "1            1282   51            Manager                  4          19847\n",
      "2            1423   58  Research Director                  4          19701\n",
      "3            1595   42            Manager                  4          19613\n",
      "4            1578   55            Manager                  4          19586\n",
      "\n",
      "Ans 5 - Department with The Highest Average Performance Rating:\n",
      "               Department  avg_perf\n",
      "0  Research & Development      3.16\n",
      "\n",
      " Ans 6 - Department with The Highest Attrition Rates:\n",
      "  Department  attrition_rate\n",
      "0      Sales           20.63\n",
      "\n",
      "Ans 7 - Impact of OverTime on Job Satisfaction, Performance, and Attrition:\n",
      "  OverTime  avg_job_satisfaction  avg_performance  attrition_rate\n",
      "0      Yes                  2.77             3.16           30.53\n",
      "1       No                  2.71             3.15           10.44\n",
      "\n",
      "Ans 8 - Impact of Distance From Home on Job Satisfaction and Attrition:\n",
      "  distance_group  avg_job_satisfaction  attrition_rate\n",
      "0        11-15km                  2.66           21.74\n",
      "1         20+ km                  2.74           20.67\n",
      "2         6-10km                  2.70           14.47\n",
      "3          O-5km                  2.75           13.77\n"
     ]
    }
   ],
   "source": [
    "#Q1) How many total employees are there?\n",
    "q1 = \"SELECT COUNT(*) AS total_employees FROM employees;\"\n",
    "print('\\nAns 1 - Total Number of Employees is:')\n",
    "print(pd.read_sql_query(q1, engine))\n",
    "\n",
    "\n",
    "#Q2) What is the employee count for each department?\n",
    "q2 = 'SELECT Department, COUNT(*) AS cnt FROM employees GROUP BY Department ORDER BY cnt DESC;'\n",
    "print('\\nAns 2 - The Employee Count for Each Department:')\n",
    "print(pd.read_sql_query(q2, engine))\n",
    "\n",
    "      \n",
    "#Q3) What is the average monthly income by job role?\n",
    "q3 = 'SELECT JobRole, ROUND(AVG(MonthlyIncome),2) AS avg_monthly_income FROM employees GROUP BY JobRole ORDER BY avg_monthly_income DESC;'\n",
    "print('\\nAns 3 - The Average Monthly Income by Job Role:')\n",
    "print(pd.read_sql_query(q3,engine))\n",
    "\n",
    "\n",
    "#Q4) Who are the top 5 employees by performance rating?\n",
    "q4 = 'SELECT EmployeeNumber, Age, JobRole, PerformanceRating, MonthlyIncome FROM employees ORDER BY PerformanceRating DESC, MonthlyIncome DESC LIMIT 5;'\n",
    "print('\\nAns 4 - The Top 5 Employees by Performance Rating:')\n",
    "print(pd.read_sql_query(q4, engine))\n",
    "\n",
    "\n",
    "#Q5) Which department has the highest average performance rating?\n",
    "q5 = 'SELECT Department, ROUND(AVG(PerformanceRating),2) AS avg_perf FROM employees GROUP BY Department ORDER BY avg_perf DESC LIMIT 1;'\n",
    "print('\\nAns 5 - Department with The Highest Average Performance Rating:')\n",
    "print(pd.read_sql_query(q5, engine))\n",
    "\n",
    "#Q6) Which department has the highest attrition rates?\n",
    "q6 = \"\"\"SELECT Department, ROUND(SUM(CASE WHEN Attrition=\"Yes\" THEN 1 ELSE 0 END)*100.0/COUNT(*),2) AS attrition_rate\n",
    "    FROM employees GROUP BY Department ORDER BY attrition_rate DESC LIMIT 1;\"\"\"\n",
    "print(\"\\n Ans 6 - Department with The Highest Attrition Rates:\")\n",
    "print(pd.read_sql_query(q6, engine))\n",
    "\n",
    "#Q7) Does working overtime affect job satisfaction, attrition, or performance?\n",
    "q7 = \"\"\"SELECT OverTime, ROUND(AVG(JobSatisfaction),2) AS avg_job_satisfaction,\n",
    "ROUND(AVG(PerformanceRating),2) AS avg_performance,\n",
    "ROUND(SUM(CASE WHEN Attrition='Yes' THEN 1 ELSE 0 END)*100.0/COUNT(*),2) AS attrition_rate \n",
    "FROM employees GROUP BY OverTime ORDER BY attrition_rate DESC;\"\"\"\n",
    "print(\"\\nAns 7 - Impact of OverTime on Job Satisfaction, Performance, and Attrition:\")\n",
    "print(pd.read_sql_query(q7, engine))\n",
    "\n",
    "#Q8) Does living farther from work increase attrition or decrease job satisfaction?\n",
    "q8 = \"\"\"SELECT CASE WHEN DistanceFromHome <= 5 THEN 'O-5km'\n",
    "    WHEN DistanceFromHome <= 10 THEN '6-10km'\n",
    "    WHEN DistanceFromHome <= 15 THEN '11-15km'\n",
    "    ELSE '20+ km' END AS distance_group, ROUND(AVG(JobSatisfaction),2) AS avg_job_satisfaction,\n",
    "    ROUND(SUM(CASE WHEN Attrition='Yes' THEN 1 ELSE 0 END)*100.0/COUNT(*),2) AS attrition_rate\n",
    "    FROM employees GROUP BY distance_group ORDER BY distance_group;\"\"\"\n",
    "print(\"\\nAns 8 - Impact of Distance From Home on Job Satisfaction and Attrition:\")\n",
    "print(pd.read_sql_query(q8, engine))\n",
    "\n",
    "      \n",
    "\n"
   ]
  }
 ],
 "metadata": {
  "kernelspec": {
   "display_name": "Python 3 (ipykernel)",
   "language": "python",
   "name": "python3"
  },
  "language_info": {
   "codemirror_mode": {
    "name": "ipython",
    "version": 3
   },
   "file_extension": ".py",
   "mimetype": "text/x-python",
   "name": "python",
   "nbconvert_exporter": "python",
   "pygments_lexer": "ipython3",
   "version": "3.11.5"
  }
 },
 "nbformat": 4,
 "nbformat_minor": 5
}
